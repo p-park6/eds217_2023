{
 "cells": [
  {
   "cell_type": "markdown",
   "metadata": {},
   "source": [
    "| [⬅️ Previous Session](practice_1-2_lists.ipynb) | [🏠 Course Home](../index.ipynb) | [➡️ Next Session](practice_2-2_structured_data.ipynb) |\n",
    "\n",
    "# Practice 2-1: Control Flow Statements\n",
    "\n",
    "![control.jpeg](assets/control.jpeg)\n",
    "\n",
    "<hr style=\"border-top: 1px solid gray; margin-top: 24px; margin-bottom: 1px\"></hr>"
   ]
  },
  {
   "cell_type": "markdown",
   "metadata": {},
   "source": [
    "\n",
    "## 📚  Practice 1\n",
    "\n",
    "In programs, <code>if</code> statements are useful for catching errors due to user input. \n",
    "\n",
    "Define two new variables based on user input: the first prompting for a temperature value and the second prompting for the units as \"F\" or \"C\". \n",
    "\n",
    "Using the equation below, write an <code>if</code> statement that converts the temperature input to °C if it was given in °F or to °F if given in °C. Recall that all variables assigned based on user input are strings. Be sure to comment your code.\n",
    "    \n",
    "Formula for conversion between °F and °C:\n",
    "    $$T_{^{\\circ} C} = (T_{^{\\circ} F} - 32) \\times 5/9$$\n"
   ]
  },
  {
   "cell_type": "markdown",
   "metadata": {},
   "source": [
    "Describe your strategy here:\n"
   ]
  },
  {
   "cell_type": "code",
   "execution_count": null,
   "metadata": {},
   "outputs": [],
   "source": [
    "# Add your code here:\n",
    "unit = input('Is your temperature Farenheit or Celcius?')\n",
    "#print((temp - 32) * (5 / 9))\n",
    "\n",
    "float_temp = float(temp)\n",
    "temp = (input('give me a temperature'))\n",
    "\n",
    "\n",
    "if unit == 'Farenheit':\n",
    "    print((float_temp - 32) * (5 / 9))\n",
    "elif unit == 'Celcius':\n",
    "    print((float_temp * 9/5) + 32)\n",
    "else:\n",
    "    print(\"temp must be a number\")\n"
   ]
  },
  {
   "cell_type": "markdown",
   "metadata": {},
   "source": [
    "## 📚  Practice 2. \n",
    "\n",
    "Using nested <code>if</code> statements and your code from Practice question #1, convert the user input temperature to the opposite units (°F to °C or vice versa), print a statement to the user that reports the temperature in the converted units and indicates whether or not the temperature below freezing. \n",
    "\n",
    "Your print statement should look something like:\n",
    "\n",
    "<code>The temperature is {__}°C/F. It is (not) below freezing.</code>\n",
    "\n"
   ]
  },
  {
   "cell_type": "markdown",
   "metadata": {},
   "source": [
    "Describe your strategy here:\n"
   ]
  },
  {
   "cell_type": "code",
   "execution_count": null,
   "metadata": {},
   "outputs": [],
   "source": [
    "# Add your code here:\n",
    "temp = input('Is your temperature Farenheit or Celcius?')\n",
    "#print((temp - 32) * (5 / 9))\n",
    "\n",
    "if temp == 'Farenheit':\n",
    "    F = float(input('give me your temperature'))\n",
    "    convert_f = ((F - 32) * (5 / 9))\n",
    "    if convert_f > 0:\n",
    "        print(f\"The temperature is {convert_f}°C. It is not below freezing.\")\n",
    "    else:\n",
    "        print(f\"The temperature is {convert_f}°C. It is below freezing.\")\n",
    "elif temp == 'Celcius':\n",
    "    C = float(input('give me your temperature'))\n",
    "    convert_c = ((C * 9/5) + 32)\n",
    "    if convert_c > 32:\n",
    "        print(f\"The temperature is {convert_c}°C. It is not below freezing.\")\n",
    "    else:\n",
    "        print(f\"The temperature is {convert_c}°C. It is below freezing.\")\n",
    "\n",
    "\n",
    "#can also write like this:\n",
    "#the new temp is{converted-temp} degree {converted unit} and it is {freesing} below freezing"
   ]
  },
  {
   "cell_type": "markdown",
   "metadata": {},
   "source": [
    "## 📚  <b> Practice 3. </b> \n",
    "\n",
    "1. Create a list of the six organic elements sorted in alphabetical order and then print each element in the list.\n",
    "\n",
    "Given your sorted <code>org_elements</code> list and the corresponding list of atomic masses given in the cell below, use <code>enumerate()</code> in a <code>for</code> loop to print a formatted statement that expresses the atomic mass of of each element. \n",
    "\n",
    "Your formatted print statement should include the name of the element, the atomic mass rounded to 2 decimal places, and units.\n",
    "\n"
   ]
  },
  {
   "cell_type": "markdown",
   "metadata": {},
   "source": [
    "Describe your strategy here:\n",
    "\n"
   ]
  },
  {
   "cell_type": "code",
   "execution_count": null,
   "metadata": {},
   "outputs": [],
   "source": [
    "elements = ['C', 'H', 'O', 'N', 'P', 'S']\n",
    "org_elements = sorted(elements)\n",
    "#print(org_elements)\n",
    "atomic_mass = [12.011, 1.00784, 14.0067, 15.999, 30.97376, 32.065]  # g/mol\n",
    "\n",
    "for i,(element, mass) in enumerate(zip(org_elements, atomic_mass)):\n",
    "    print(f\"the {element} atomic mass is {mass} g/mol\")\n"
   ]
  },
  {
   "cell_type": "markdown",
   "metadata": {},
   "source": [
    "## 📚  <b> Practice 4. </b> \n",
    "The cell below contains monthly global land-ocean surface temperature in °F for each month during the years 2015-2021. \n",
    "\n",
    "Using  <code>enumerate()</code>, <code>zip()</code>, a nested <code>for</code> loop, or some combination of the three:\n",
    "\n",
    "<ol class=\"alpha\">\n",
    "<li> Calculate the monthly global land-ocean surface temperature anomalies (deviation from the mean) in °C for 2015-2021. The mean global land-ocean surface temperature calculated over the 20th century was 15.6°C.</li>\n",
    "<li> Create a new list with the mean monthly global surface temperature anomalies in °C for 2015-2021 (i.e. calculate the mean temperature anomaly for each month and put these values in a list). Use the command <code>np.mean()</code> to calculate mean values. </li> \n",
    "<li> Print each monthly mean value with the name of the month and units. </li>\n",
    "</ol>\n",
    "</div>"
   ]
  },
  {
   "cell_type": "code",
   "execution_count": null,
   "metadata": {},
   "outputs": [],
   "source": [
    "# Import numpy for mean calculations\n",
    "import numpy as np\n",
    "\n",
    "tempF_2015 = [61.628, 61.7, 61.808, 61.448, 61.52, 61.538, 61.394, 61.52, 61.61, 62.042, 61.988, 62.168]\n",
    "tempF_2016 = [62.186, 62.546, 62.528, 62.06, 61.79, 61.52, 61.61, 61.916, 61.718, 61.682, 61.736, 61.628]\n",
    "tempF_2017 = [61.916, 62.132, 62.168, 61.772, 61.718, 61.376, 61.556, 61.646, 61.466, 61.7, 61.664, 61.754]\n",
    "tempF_2018 = [61.556, 61.61, 61.664, 61.682, 61.556, 61.466, 61.556, 61.448, 61.52, 61.916, 61.556, 61.718]\n",
    "tempF_2019 = [61.754, 61.79, 62.186, 61.898, 61.61, 61.7, 61.772, 61.79, 61.754, 61.898, 61.862, 62.042]\n",
    "tempF_2020 = [62.186, 62.312, 62.186, 62.114, 61.898, 61.736, 61.7, 61.646, 61.862, 61.664, 62.06, 61.538]\n",
    "tempF_2021 = [61.538, 61.232, 61.664, 61.43, 61.484, 61.592, 61.736, 61.556, 61.736, 61.88, 61.772, 61.61]\n",
    "\n",
    "# List of yearly lists (may or may not be useful)\n",
    "tempF_list = [tempF_2015, tempF_2016, tempF_2017, tempF_2018, tempF_2019, tempF_2020, tempF_2021]\n",
    "\n",
    "# List of years (probably useful)\n",
    "years = [2015, 2016, 2017, 2018, 2019, 2020, 2021]"
   ]
  },
  {
   "cell_type": "markdown",
   "metadata": {},
   "source": [
    "Describe your strategy here:\n",
    "\n"
   ]
  },
  {
   "cell_type": "code",
   "execution_count": null,
   "metadata": {},
   "outputs": [],
   "source": [
    "import numpy as np\n",
    "\n",
    "\n",
    "# Add your code here:\n",
    "tempC_list = []\n",
    "anomC_list = []\n",
    "year_means = []\n",
    "year_means_final = []\n",
    "\n",
    "for i,list in enumerate(tempF_list):\n",
    "    mean = np.mean(list)\n",
    "    year_means.append(mean)\n",
    " #   mean = year_means\n",
    "#    print(f\"mean is list{i}: {mean}\")\n",
    "\n",
    "\n",
    "year_C = []\n",
    "year_C_anom = []\n",
    "for x in year_means:\n",
    "    mean_global_surface = int(15.6)\n",
    "    C_value = (x-32 * (5/9))\n",
    "    year_C.append(C_value)\n",
    "    year_C_anom.append(year_means - mean_global_surface for x in year_means)\n",
    "tempC_list.append(year_C)\n",
    "anomC_list.append(year_C_anom)\n",
    " #   print(year_means_final.append(result))\n",
    "    \n",
    "for i in range(12):\n",
    "    month_vals = []\n",
    "    for j in range(7):\n",
    "        month_vals.append(anomC_list[j][i])\n",
    "    print(month_vals)\n",
    "\n",
    "\n",
    "#print(enumerate(year_means) - 15.6)\n",
    "\n",
    "\n",
    "\n",
    "\n",
    "each_month = []\n",
    "\n",
    "for lst in tempF_list:\n",
    "    each_month.append(lst[0:11])\n",
    " #   print(np.mean(each_month))\n",
    "\n",
    "\n",
    "\n",
    " #   print(np.mean(lst[0]))\n",
    "\n",
    "\n",
    "#for i,(year, temp_list) in enumerate(zip(years, tempF_list[0])):\n",
    "#    month_mean = (tempF_list[0:0])\n",
    "#    print(month_mean)\n",
    "\n",
    "#for i,(year, temp_list) in enumerate(zip(years, tempF_list)):\n",
    "#    print(np.mean(temp_list))\n",
    "\n",
    "\n",
    "\n",
    "\n"
   ]
  },
  {
   "cell_type": "code",
   "execution_count": null,
   "metadata": {},
   "outputs": [],
   "source": [
    "#this is iterating thru the data\n",
    "#from teacher's code:\n",
    "#Get temps in C and anomalies in C\n",
    "tempC_list = []\n",
    "anomC_list = []\n",
    "\n",
    "mean_temp = 15.6\n",
    "\n",
    "for year_data in tempF_list:\n",
    " #   print(year_data)\n",
    "    year_C = []\n",
    "    year_C_anom = []\n",
    "    for value in year_data:\n",
    "        C_value = (value-32 * (5/9))\n",
    "        year_C.append(C_value)\n",
    "        year_C_anom.append(C_value - mean_temp) #can also do [value - mean.temp for value in year_c]\n",
    "    tempC_list.append(year_C)\n",
    "    anomC_list.append(year_C_anom)\n",
    "\n",
    "#print(anomC_list)\n",
    "\n",
    "for i in range(12):\n",
    "    month_vals = []\n",
    "    for j in range(7):\n",
    "        month_vals.append(anomC_list[j][i])\n",
    "    print(month_vals)"
   ]
  },
  {
   "cell_type": "code",
   "execution_count": null,
   "metadata": {},
   "outputs": [],
   "source": [
    "#for zip, this is aggregating thru the data\n",
    "ave_month_f = []\n",
    "ave_month_c = []\n",
    "ave_month_anom = []\n",
    "\n",
    "for i in (tempF_2015, tempF_2016, tempF_2017, tempF_2018, tempF_2019, tempF_2020, tempF_2021):\n",
    "    ave_f = np.mean(i)\n",
    "    ave_c = (ave_f - 32) * 5/9\n",
    "    ave_month_f.append(ave_f)\n",
    "    ave_month_c.append(ave_c)\n",
    "    ave_month_anom.append()\n",
    "\n",
    "\n",
    "\n",
    "    #ave_month_f.append(ave_f)\n",
    "    #ave_month_C.append((avg_F - 32) / (5/9))\n",
    "    \n",
    "    #print(np.mean(i))\n",
    "    #ave_month_f.append(np.mean(i))"
   ]
  },
  {
   "cell_type": "markdown",
   "metadata": {},
   "source": [
    "## 📚  Practice 5.\n",
    "\n",
    "Use a list comprehension to print a list of all months that had an anomaly above the average monthly anomaly.\n",
    "\n",
    "Some helpful code is provided below:\n",
    "```python\n",
    "months = ['January', 'February', 'March', 'April', 'May', 'June', 'July', 'August', 'September', 'October', 'November', 'December']\n",
    "\n",
    "average_anomaly = np.mean(mean_monthly_anomalies)\n",
    "\n",
    "```\n",
    "Recall that list comprehensions can contain <code>if</code> statements. For example:\n",
    "\n",
    "[<code>item</code> for <code>item</code> in <code>list</code> if <code>item</code> > <code>value</code>]\n",
    "\n",
    "And they can also contain enumerate statements:\n",
    "\n",
    "[<code>item</code> for <code>index,item</code> in <code>enumerate(list)</code> if <code>other_list[index]</code> > <code>value</code>]"
   ]
  },
  {
   "cell_type": "markdown",
   "metadata": {},
   "source": [
    "Describe your strategy here:\n",
    "\n"
   ]
  },
  {
   "cell_type": "code",
   "execution_count": null,
   "metadata": {},
   "outputs": [],
   "source": [
    "# Add your code here:"
   ]
  }
 ],
 "metadata": {
  "kernelspec": {
   "display_name": "eds217_2023",
   "language": "python",
   "name": "python3"
  },
  "language_info": {
   "codemirror_mode": {
    "name": "ipython",
    "version": 3
   },
   "file_extension": ".py",
   "mimetype": "text/x-python",
   "name": "python",
   "nbconvert_exporter": "python",
   "pygments_lexer": "ipython3",
   "version": "3.10.12"
  },
  "orig_nbformat": 4
 },
 "nbformat": 4,
 "nbformat_minor": 2
}
