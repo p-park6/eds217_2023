{
 "cells": [
  {
   "cell_type": "markdown",
   "metadata": {},
   "source": [
    "| [🏠 Course Home](../index.ipynb) | [➡️ Next Session](practice_1-2_lists.ipynb) |\n",
    "\n",
    "# Practice 1-1: Variables & Operators\n",
    "\n",
    "![variables.jpg](assets/variables.jpg)\n",
    "\n",
    "\n",
    "<hr style=\"border-top: 1px solid gray; margin-top: 24px; margin-bottom: 1px\"></hr>"
   ]
  },
  {
   "cell_type": "markdown",
   "metadata": {},
   "source": [
    "\n",
    "### <div class=\"practice\"> 📚 Practice 2.\n",
    "In the cell below, answer the question by defining a new string variable. Use the `print()`  command to output your answer.\n"
   ]
  },
  {
   "cell_type": "code",
   "execution_count": 4,
   "metadata": {},
   "outputs": [
    {
     "name": "stdout",
     "output_type": "stream",
     "text": [
      "What is Newton's 1st law of motion? An object at rest remains at rest, or if in motion, remains in motion at a constant velocity unless acted on by a net external force.\n"
     ]
    }
   ],
   "source": [
    "# Question\n",
    "q1 = 'What is Newton\\'s 1st law of motion?'\n",
    "\n",
    "# Answer the question by defining a new string variable.\n",
    "a1 = \"An object at rest remains at rest, or if in motion, remains in motion at a constant velocity unless acted on by a net external force.\"\n",
    "\n",
    "# Print your answer.\n",
    "print(q1, a1)"
   ]
  },
  {
   "cell_type": "markdown",
   "metadata": {},
   "source": [
    "## 📚 Practice 3.\n",
    "Assign your first and last names to variables and use the <code>+</code> operator to combine them into a single variable. Practice capitalizing the first letter and then the entire string. Print your answers."
   ]
  },
  {
   "cell_type": "code",
   "execution_count": 28,
   "metadata": {},
   "outputs": [
    {
     "name": "stdout",
     "output_type": "stream",
     "text": [
      "patty park\n",
      "Patty \n",
      "Park\n",
      "Patty Park\n"
     ]
    }
   ],
   "source": [
    "#writing down first and last name\n",
    "first = \"patty \"\n",
    "last = \"park\"\n",
    "\n",
    "#combining first and last name together\n",
    "print(first + last)\n",
    "\n",
    "print(first.capitalize())\n",
    "print(last.capitalize())\n",
    "\n",
    "print(first.capitalize() + last.capitalize())"
   ]
  },
  {
   "cell_type": "markdown",
   "metadata": {},
   "source": [
    "\n",
    "### <div class=\"Practice\"> 📚 Practice 4\n",
    "Use the code below to write a formatted string that prints the sentence <code>My name is [YOUR FIRST NAME]. I am [YOUR AGE] years old.</code>, inputing your name and age. Replace <code>first</code> with the name of the variable you assigned to your first name in the previous question. Replace <code>age</code> with your age as an integer.\n",
    "</div>"
   ]
  },
  {
   "cell_type": "code",
   "execution_count": 16,
   "metadata": {},
   "outputs": [
    {
     "name": "stdout",
     "output_type": "stream",
     "text": [
      "My name is Patty. I am 25 years old.\n"
     ]
    }
   ],
   "source": [
    "first = \"Patty\"\n",
    "age = \"25\"\n",
    "\n",
    "print(f\"My name is {first}. I am {age} years old.\")"
   ]
  },
  {
   "cell_type": "markdown",
   "metadata": {},
   "source": [
    "\n",
    "\n",
    "### <div class=\"practice\"> 📚 Practice 5.\n",
    "Rewrite your answers to practice questions 1 and 2 using formatted print statements. \n",
    "\n",
    "Each answer should include: \n",
    "\n",
    "1. What you are solving for; \n",
    "2. Your solution, with the correct formatting, and \n",
    "3. Units. \n",
    "\n",
    "For example:\n",
    "\n",
    "<p style=\"font-weight: normal; text-align: center; margin-top: 12pt\"> <code>The radius of the earth is 6,378 km.</code> </p>\n",
    "\n",
    "</div>"
   ]
  },
  {
   "cell_type": "code",
   "execution_count": 19,
   "metadata": {},
   "outputs": [
    {
     "name": "stdout",
     "output_type": "stream",
     "text": [
      "How tall is the tallest mountain on Earth?\n",
      "The tallest mountain is Mount Everest, with it being (8, 848) m.\n"
     ]
    }
   ],
   "source": [
    "everest_tall = 8,848\n",
    "\n",
    "q2 = \"How tall is the tallest mountain on Earth?\"\n",
    "\n",
    "a2 = f\"The tallest mountain is Mount Everest, with it being {everest_tall} m.\"\n",
    "\n",
    "print(q2)\n",
    "print(a2)"
   ]
  },
  {
   "cell_type": "code",
   "execution_count": null,
   "metadata": {},
   "outputs": [],
   "source": []
  }
 ],
 "metadata": {
  "kernelspec": {
   "display_name": "eds217_2023",
   "language": "python",
   "name": "python3"
  },
  "language_info": {
   "codemirror_mode": {
    "name": "ipython",
    "version": 3
   },
   "file_extension": ".py",
   "mimetype": "text/x-python",
   "name": "python",
   "nbconvert_exporter": "python",
   "pygments_lexer": "ipython3",
   "version": "3.10.12"
  },
  "orig_nbformat": 4
 },
 "nbformat": 4,
 "nbformat_minor": 2
}
