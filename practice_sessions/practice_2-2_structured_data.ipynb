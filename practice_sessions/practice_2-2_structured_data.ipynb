{
 "cells": [
  {
   "cell_type": "markdown",
   "metadata": {
    "slideshow": {
     "slide_type": "slide"
    }
   },
   "source": [
    "| [⬅️ Previous Session](practice_2-1_control_flow_statements.ipynb) | [🏠 Course Home](../index.ipynb) | [➡️ Next Session](practice_3-1_numpy.ipynb) |\n",
    "\n",
    "# Practice 1-4: Structured Data in Python"
   ]
  },
  {
   "cell_type": "markdown",
   "metadata": {},
   "source": [
    "## 📚  <b> Practice 1. </b> \n",
    "\n",
    "Dictionaries are an extremely common data structure. Often data is easiest to store according to keys, where each row of data has a unique key. \n",
    "\n",
    "For example, a dictionary of students might have a key for each student's name or id, and then a set of values that are associated with that student.\n",
    "\n",
    "### Make a dictionary of your peers.\n",
    "\n",
    "Come up with 3-4 questions and ask 5-6 of your peers to give answers to each one. The questions can be anything you want, but they should be questions that can be answered with a single word or number.\n",
    "\n",
    "For example, you might ask:\n",
    "- What is your favorite color? (pretty weak question)\n",
    "- How many siblings do you have? (ok, but not great)\n",
    "- What is your favorite genre of film? (better)\n",
    "- On a scale of 1-10, how well do you feel that you understand python dictionaries? (better still)\n",
    "\n",
    "Make sure you have a key for each person, and then a set of values for each question. \n",
    "\n",
    "Based on each person's responses, build a dictionary in the cell below:\n",
    "\n",
    "(note: You will end up with a dictionary of dictionaries)\n",
    "\n",
    "```python\n",
    "# Example:\n",
    "my_dict = {\n",
    "    'person1': {\n",
    "        'question1': 'answer1',\n",
    "        'question2': 'answer2',\n",
    "        'question3': 'answer3',\n",
    "        'question4': 'answer4',\n",
    "    },\n",
    "    'person2': {\n",
    "        'question1': 'answer1',\n",
    "        'question2': 'answer2',\n",
    "        'question3': 'answer3',\n",
    "        'question4': 'answer4',\n",
    "    },\n",
    "    'person3': {\n",
    "        'question1': 'answer1',\n",
    "        'question2': 'answer2',\n",
    "        \n",
    "        'question3': 'answer3',\n",
    "        'question4': 'answer4',\n",
    "    },\n",
    "}\n",
    "```"
   ]
  },
  {
   "cell_type": "code",
   "execution_count": 15,
   "metadata": {},
   "outputs": [],
   "source": [
    "# question 1. what is your favorite movie\n",
    "# question 2. what is your favorite movie snack\n",
    "# question 3. do you like watching movies during the day or during the night\n",
    "\n",
    "my_dict = {\n",
    "    'Sam': {\n",
    "        'what is your favorite movie': \"Howl's Moving Castle\",\n",
    "        'what is your favorite movie snack': 'Popcorn',\n",
    "        'do you like watching movies during the day or during the night': 'night', \n",
    "    },\n",
    "    'Melissa': {\n",
    "        'what is your favorite movie': 'Red',\n",
    "        'what is your favorite movie snack': 'Chocolate',\n",
    "        'do you like watching movies during the day or during the night': 'night',\n",
    "    },\n",
    "    'annie': {\n",
    "        'what is your favorite movie': 'Top Gen',\n",
    "        'what is your favorite movie snack': 'red vines',\n",
    "        'do you like watching movies during the day or during the night': 'night',\n",
    "    },\n",
    "    'Carly': {\n",
    "        'what is your favorite movie': 'Barbie',\n",
    "        'what is your favorite movie snack': 'Popcorn',\n",
    "        'do you like watching movies during the day or during the night': 'night',\n",
    "    },\n",
    "    'Vanessa': {\n",
    "        'what is your favorite movie': 'Her',\n",
    "        'what is your favorite movie snack': 'Ice Cream',\n",
    "        'do you like watching movies during the day or during the night': 'night',\n",
    "    }\n",
    "}\n"
   ]
  },
  {
   "cell_type": "markdown",
   "metadata": {},
   "source": [
    "## Dictionary to dataframe\n",
    "\n",
    "Now that you have a dictionary, you can convert it to a dataframe.\n",
    "\n",
    "### Convert your dictionary to a dataframe\n",
    "\n",
    "Use the `pd.DataFrame()` function to convert your dictionary to a dataframe.\n",
    "\n",
    "```python\n",
    "import pandas as pd\n",
    "\n",
    "# Convert a dictionary to a dataframe\n",
    "df = pd.DataFrame(my_dict)\n",
    "```\n"
   ]
  },
  {
   "cell_type": "code",
   "execution_count": 8,
   "metadata": {},
   "outputs": [
    {
     "ename": "NameError",
     "evalue": "name 'my_dict' is not defined",
     "output_type": "error",
     "traceback": [
      "\u001b[1;31m---------------------------------------------------------------------------\u001b[0m",
      "\u001b[1;31mNameError\u001b[0m                                 Traceback (most recent call last)",
      "\u001b[1;32mc:\\Users\\patty\\Documents\\github_repo\\eds217_2023\\practice_sessions\\practice_2-2_structured_data.ipynb Cell 5\u001b[0m line \u001b[0;36m3\n\u001b[0;32m      <a href='vscode-notebook-cell:/c%3A/Users/patty/Documents/github_repo/eds217_2023/practice_sessions/practice_2-2_structured_data.ipynb#W4sZmlsZQ%3D%3D?line=0'>1</a>\u001b[0m \u001b[39mimport\u001b[39;00m \u001b[39mpandas\u001b[39;00m \u001b[39mas\u001b[39;00m \u001b[39mpd\u001b[39;00m\n\u001b[1;32m----> <a href='vscode-notebook-cell:/c%3A/Users/patty/Documents/github_repo/eds217_2023/practice_sessions/practice_2-2_structured_data.ipynb#W4sZmlsZQ%3D%3D?line=2'>3</a>\u001b[0m df \u001b[39m=\u001b[39m pd\u001b[39m.\u001b[39mDataFrame(my_dict)\n\u001b[0;32m      <a href='vscode-notebook-cell:/c%3A/Users/patty/Documents/github_repo/eds217_2023/practice_sessions/practice_2-2_structured_data.ipynb#W4sZmlsZQ%3D%3D?line=3'>4</a>\u001b[0m \u001b[39mprint\u001b[39m(df)\n",
      "\u001b[1;31mNameError\u001b[0m: name 'my_dict' is not defined"
     ]
    }
   ],
   "source": [
    "import pandas as pd\n",
    "\n",
    "df = pd.DataFrame(my_dict)\n",
    "print(df)"
   ]
  },
  {
   "cell_type": "markdown",
   "metadata": {},
   "source": [
    "\n",
    "### Investigate your dataframe using the following functions:\n",
    "\n",
    "- `df.head()`\n",
    "- `df.tail()`\n",
    "- `df.info()`\n",
    "\n"
   ]
  },
  {
   "cell_type": "code",
   "execution_count": 12,
   "metadata": {},
   "outputs": [
    {
     "data": {
      "text/html": [
       "<div>\n",
       "<style scoped>\n",
       "    .dataframe tbody tr th:only-of-type {\n",
       "        vertical-align: middle;\n",
       "    }\n",
       "\n",
       "    .dataframe tbody tr th {\n",
       "        vertical-align: top;\n",
       "    }\n",
       "\n",
       "    .dataframe thead th {\n",
       "        text-align: right;\n",
       "    }\n",
       "</style>\n",
       "<table border=\"1\" class=\"dataframe\">\n",
       "  <thead>\n",
       "    <tr style=\"text-align: right;\">\n",
       "      <th></th>\n",
       "      <th>Sam</th>\n",
       "      <th>Melissa</th>\n",
       "      <th>annie</th>\n",
       "      <th>Carly</th>\n",
       "      <th>Vanessa</th>\n",
       "    </tr>\n",
       "  </thead>\n",
       "  <tbody>\n",
       "    <tr>\n",
       "      <th>what is your favorite movie</th>\n",
       "      <td>Howl's Moving Castle</td>\n",
       "      <td>Red</td>\n",
       "      <td>Top Gen</td>\n",
       "      <td>Barbie</td>\n",
       "      <td>Her</td>\n",
       "    </tr>\n",
       "    <tr>\n",
       "      <th>what is your favorite movie snack</th>\n",
       "      <td>Popcorn</td>\n",
       "      <td>Chocolate</td>\n",
       "      <td>red vines</td>\n",
       "      <td>Popcorn</td>\n",
       "      <td>Ice Cream</td>\n",
       "    </tr>\n",
       "    <tr>\n",
       "      <th>do you like watching movies during the day or during the night</th>\n",
       "      <td>night</td>\n",
       "      <td>night</td>\n",
       "      <td>Night</td>\n",
       "      <td>night</td>\n",
       "      <td>night</td>\n",
       "    </tr>\n",
       "  </tbody>\n",
       "</table>\n",
       "</div>"
      ],
      "text/plain": [
       "                                                                     Sam  \\\n",
       "what is your favorite movie                         Howl's Moving Castle   \n",
       "what is your favorite movie snack                                Popcorn   \n",
       "do you like watching movies during the day or d...                 night   \n",
       "\n",
       "                                                      Melissa      annie  \\\n",
       "what is your favorite movie                               Red    Top Gen   \n",
       "what is your favorite movie snack                   Chocolate  red vines   \n",
       "do you like watching movies during the day or d...      night      Night   \n",
       "\n",
       "                                                      Carly    Vanessa  \n",
       "what is your favorite movie                          Barbie        Her  \n",
       "what is your favorite movie snack                   Popcorn  Ice Cream  \n",
       "do you like watching movies during the day or d...    night      night  "
      ]
     },
     "execution_count": 12,
     "metadata": {},
     "output_type": "execute_result"
    }
   ],
   "source": [
    "df.head()\n",
    "#df.tail()\n",
    "#df.info()"
   ]
  },
  {
   "cell_type": "markdown",
   "metadata": {},
   "source": [
    "Is your dataframe what you expected? If not, what is different? Why?? How would you need to change your data structure to get the dataframe you expected?"
   ]
  },
  {
   "cell_type": "code",
   "execution_count": null,
   "metadata": {},
   "outputs": [],
   "source": []
  },
  {
   "cell_type": "markdown",
   "metadata": {},
   "source": [
    "\n",
    "\n",
    "`df.transpose()` might be helpful here. What does it do?\n",
    "create a new dataframe that is a transposed version of your original dataframe.\n",
    "\n",
    "```python\n",
    "# Transpose a dataframe\n",
    "df_transposed = df.transpose()\n",
    "```"
   ]
  },
  {
   "cell_type": "code",
   "execution_count": 18,
   "metadata": {},
   "outputs": [
    {
     "data": {
      "text/html": [
       "<div>\n",
       "<style scoped>\n",
       "    .dataframe tbody tr th:only-of-type {\n",
       "        vertical-align: middle;\n",
       "    }\n",
       "\n",
       "    .dataframe tbody tr th {\n",
       "        vertical-align: top;\n",
       "    }\n",
       "\n",
       "    .dataframe thead th {\n",
       "        text-align: right;\n",
       "    }\n",
       "</style>\n",
       "<table border=\"1\" class=\"dataframe\">\n",
       "  <thead>\n",
       "    <tr style=\"text-align: right;\">\n",
       "      <th></th>\n",
       "      <th>what is your favorite movie</th>\n",
       "      <th>what is your favorite movie snack</th>\n",
       "      <th>do you like watching movies during the day or during the night</th>\n",
       "    </tr>\n",
       "  </thead>\n",
       "  <tbody>\n",
       "    <tr>\n",
       "      <th>Sam</th>\n",
       "      <td>Howl's Moving Castle</td>\n",
       "      <td>Popcorn</td>\n",
       "      <td>night</td>\n",
       "    </tr>\n",
       "    <tr>\n",
       "      <th>Melissa</th>\n",
       "      <td>Red</td>\n",
       "      <td>Chocolate</td>\n",
       "      <td>night</td>\n",
       "    </tr>\n",
       "    <tr>\n",
       "      <th>annie</th>\n",
       "      <td>Top Gen</td>\n",
       "      <td>red vines</td>\n",
       "      <td>Night</td>\n",
       "    </tr>\n",
       "    <tr>\n",
       "      <th>Carly</th>\n",
       "      <td>Barbie</td>\n",
       "      <td>Popcorn</td>\n",
       "      <td>night</td>\n",
       "    </tr>\n",
       "    <tr>\n",
       "      <th>Vanessa</th>\n",
       "      <td>Her</td>\n",
       "      <td>Ice Cream</td>\n",
       "      <td>night</td>\n",
       "    </tr>\n",
       "  </tbody>\n",
       "</table>\n",
       "</div>"
      ],
      "text/plain": [
       "        what is your favorite movie what is your favorite movie snack  \\\n",
       "Sam            Howl's Moving Castle                           Popcorn   \n",
       "Melissa                         Red                         Chocolate   \n",
       "annie                       Top Gen                         red vines   \n",
       "Carly                        Barbie                           Popcorn   \n",
       "Vanessa                         Her                         Ice Cream   \n",
       "\n",
       "        do you like watching movies during the day or during the night  \n",
       "Sam                                                  night              \n",
       "Melissa                                              night              \n",
       "annie                                                Night              \n",
       "Carly                                                night              \n",
       "Vanessa                                              night              "
      ]
     },
     "execution_count": 18,
     "metadata": {},
     "output_type": "execute_result"
    }
   ],
   "source": [
    "# Transpose your dataframe so that the people are the rows and the questions are the columns.\n",
    "df_transposed = df.transpose()\n",
    "df_transposed.head()\n",
    "\n"
   ]
  },
  {
   "cell_type": "markdown",
   "metadata": {},
   "source": [
    "### Visualize/summarize your dataframe using one or more of the following functions:\n",
    "\n",
    "- `df.describe()`\n",
    "- `df.plot()`\n",
    "- `df.hist()`"
   ]
  },
  {
   "cell_type": "code",
   "execution_count": 25,
   "metadata": {},
   "outputs": [
    {
     "ename": "TypeError",
     "evalue": "no numeric data to plot",
     "output_type": "error",
     "traceback": [
      "\u001b[1;31m---------------------------------------------------------------------------\u001b[0m",
      "\u001b[1;31mTypeError\u001b[0m                                 Traceback (most recent call last)",
      "Cell \u001b[1;32mIn[25], line 2\u001b[0m\n\u001b[0;32m      1\u001b[0m \u001b[39m#cant plot my data\u001b[39;00m\n\u001b[1;32m----> 2\u001b[0m df\u001b[39m.\u001b[39;49mplot()\n",
      "File \u001b[1;32mc:\\Users\\patty\\anaconda3\\envs\\eds217_2023\\lib\\site-packages\\pandas\\plotting\\_core.py:975\u001b[0m, in \u001b[0;36mPlotAccessor.__call__\u001b[1;34m(self, *args, **kwargs)\u001b[0m\n\u001b[0;32m    972\u001b[0m             label_name \u001b[39m=\u001b[39m label_kw \u001b[39mor\u001b[39;00m data\u001b[39m.\u001b[39mcolumns\n\u001b[0;32m    973\u001b[0m             data\u001b[39m.\u001b[39mcolumns \u001b[39m=\u001b[39m label_name\n\u001b[1;32m--> 975\u001b[0m \u001b[39mreturn\u001b[39;00m plot_backend\u001b[39m.\u001b[39mplot(data, kind\u001b[39m=\u001b[39mkind, \u001b[39m*\u001b[39m\u001b[39m*\u001b[39mkwargs)\n",
      "File \u001b[1;32mc:\\Users\\patty\\anaconda3\\envs\\eds217_2023\\lib\\site-packages\\pandas\\plotting\\_matplotlib\\__init__.py:71\u001b[0m, in \u001b[0;36mplot\u001b[1;34m(data, kind, **kwargs)\u001b[0m\n\u001b[0;32m     69\u001b[0m         kwargs[\u001b[39m\"\u001b[39m\u001b[39max\u001b[39m\u001b[39m\"\u001b[39m] \u001b[39m=\u001b[39m \u001b[39mgetattr\u001b[39m(ax, \u001b[39m\"\u001b[39m\u001b[39mleft_ax\u001b[39m\u001b[39m\"\u001b[39m, ax)\n\u001b[0;32m     70\u001b[0m plot_obj \u001b[39m=\u001b[39m PLOT_CLASSES[kind](data, \u001b[39m*\u001b[39m\u001b[39m*\u001b[39mkwargs)\n\u001b[1;32m---> 71\u001b[0m plot_obj\u001b[39m.\u001b[39;49mgenerate()\n\u001b[0;32m     72\u001b[0m plot_obj\u001b[39m.\u001b[39mdraw()\n\u001b[0;32m     73\u001b[0m \u001b[39mreturn\u001b[39;00m plot_obj\u001b[39m.\u001b[39mresult\n",
      "File \u001b[1;32mc:\\Users\\patty\\anaconda3\\envs\\eds217_2023\\lib\\site-packages\\pandas\\plotting\\_matplotlib\\core.py:446\u001b[0m, in \u001b[0;36mMPLPlot.generate\u001b[1;34m(self)\u001b[0m\n\u001b[0;32m    444\u001b[0m \u001b[39mdef\u001b[39;00m \u001b[39mgenerate\u001b[39m(\u001b[39mself\u001b[39m) \u001b[39m-\u001b[39m\u001b[39m>\u001b[39m \u001b[39mNone\u001b[39;00m:\n\u001b[0;32m    445\u001b[0m     \u001b[39mself\u001b[39m\u001b[39m.\u001b[39m_args_adjust()\n\u001b[1;32m--> 446\u001b[0m     \u001b[39mself\u001b[39;49m\u001b[39m.\u001b[39;49m_compute_plot_data()\n\u001b[0;32m    447\u001b[0m     \u001b[39mself\u001b[39m\u001b[39m.\u001b[39m_setup_subplots()\n\u001b[0;32m    448\u001b[0m     \u001b[39mself\u001b[39m\u001b[39m.\u001b[39m_make_plot()\n",
      "File \u001b[1;32mc:\\Users\\patty\\anaconda3\\envs\\eds217_2023\\lib\\site-packages\\pandas\\plotting\\_matplotlib\\core.py:632\u001b[0m, in \u001b[0;36mMPLPlot._compute_plot_data\u001b[1;34m(self)\u001b[0m\n\u001b[0;32m    630\u001b[0m \u001b[39m# no non-numeric frames or series allowed\u001b[39;00m\n\u001b[0;32m    631\u001b[0m \u001b[39mif\u001b[39;00m is_empty:\n\u001b[1;32m--> 632\u001b[0m     \u001b[39mraise\u001b[39;00m \u001b[39mTypeError\u001b[39;00m(\u001b[39m\"\u001b[39m\u001b[39mno numeric data to plot\u001b[39m\u001b[39m\"\u001b[39m)\n\u001b[0;32m    634\u001b[0m \u001b[39mself\u001b[39m\u001b[39m.\u001b[39mdata \u001b[39m=\u001b[39m numeric_data\u001b[39m.\u001b[39mapply(\u001b[39mself\u001b[39m\u001b[39m.\u001b[39m_convert_to_ndarray)\n",
      "\u001b[1;31mTypeError\u001b[0m: no numeric data to plot"
     ]
    }
   ],
   "source": [
    "#cant plot my data\n"
   ]
  },
  {
   "cell_type": "markdown",
   "metadata": {},
   "source": [
    "## 📚  <b> Practice 2. </b>\n",
    "\n",
    "### Structured data search: Find structured data on the internet and convert it to a dataframe.\n",
    "\n",
    "You're looking for data that is in a table format, like a spreadsheet, but not available as an easy to download `.csv` or `.excel` file. This turns out to describe a lot of data!\n",
    "\n",
    "Often you can find this kind of data on wikipedia, or on government websites, or in research articles that contain tables of results.\n"
   ]
  },
  {
   "cell_type": "code",
   "execution_count": 2,
   "metadata": {},
   "outputs": [
    {
     "name": "stdout",
     "output_type": "stream",
     "text": [
      "{'Mount Everest': 8849, 'K2': 8611, 'Kangchenjunga': 8586, 'Lhotse': 8516, 'Makalu': 8485}\n"
     ]
    }
   ],
   "source": [
    "tallest_mountain = {\n",
    "    'Mount Everest': 8849,\n",
    "    'K2': 8611, \n",
    "    'Kangchenjunga': 8586,\n",
    "    'Lhotse': 8516,\n",
    "    'Makalu': 8485\n",
    "}\n",
    "print(tallest_mountain)\n"
   ]
  },
  {
   "cell_type": "markdown",
   "metadata": {},
   "source": [
    "### Convert your data to a dataframe"
   ]
  },
  {
   "cell_type": "code",
   "execution_count": 14,
   "metadata": {},
   "outputs": [
    {
     "ename": "ValueError",
     "evalue": "If using all scalar values, you must pass an index",
     "output_type": "error",
     "traceback": [
      "\u001b[1;31m---------------------------------------------------------------------------\u001b[0m",
      "\u001b[1;31mValueError\u001b[0m                                Traceback (most recent call last)",
      "\u001b[1;32mc:\\Users\\patty\\Documents\\github_repo\\eds217_2023\\practice_sessions\\practice_2-2_structured_data.ipynb Cell 17\u001b[0m line \u001b[0;36m1\n\u001b[1;32m----> <a href='vscode-notebook-cell:/c%3A/Users/patty/Documents/github_repo/eds217_2023/practice_sessions/practice_2-2_structured_data.ipynb#X22sZmlsZQ%3D%3D?line=0'>1</a>\u001b[0m mountain_df \u001b[39m=\u001b[39m pd\u001b[39m.\u001b[39;49mDataFrame(tallest_mountain)\n\u001b[0;32m      <a href='vscode-notebook-cell:/c%3A/Users/patty/Documents/github_repo/eds217_2023/practice_sessions/practice_2-2_structured_data.ipynb#X22sZmlsZQ%3D%3D?line=2'>3</a>\u001b[0m \u001b[39m#mountain_df = tallest_mountain.transpose()\u001b[39;00m\n\u001b[0;32m      <a href='vscode-notebook-cell:/c%3A/Users/patty/Documents/github_repo/eds217_2023/practice_sessions/practice_2-2_structured_data.ipynb#X22sZmlsZQ%3D%3D?line=3'>4</a>\u001b[0m \u001b[39m#mountain_df = pd.DataFrame(list(tallest_mountain.items()), columns=['Mountain', 'Height (m)'])\u001b[39;00m\n\u001b[0;32m      <a href='vscode-notebook-cell:/c%3A/Users/patty/Documents/github_repo/eds217_2023/practice_sessions/practice_2-2_structured_data.ipynb#X22sZmlsZQ%3D%3D?line=4'>5</a>\u001b[0m \u001b[39mprint\u001b[39m(mountain_df)\n",
      "File \u001b[1;32mc:\\Users\\patty\\anaconda3\\envs\\eds217_2023\\lib\\site-packages\\pandas\\core\\frame.py:709\u001b[0m, in \u001b[0;36mDataFrame.__init__\u001b[1;34m(self, data, index, columns, dtype, copy)\u001b[0m\n\u001b[0;32m    703\u001b[0m     mgr \u001b[39m=\u001b[39m \u001b[39mself\u001b[39m\u001b[39m.\u001b[39m_init_mgr(\n\u001b[0;32m    704\u001b[0m         data, axes\u001b[39m=\u001b[39m{\u001b[39m\"\u001b[39m\u001b[39mindex\u001b[39m\u001b[39m\"\u001b[39m: index, \u001b[39m\"\u001b[39m\u001b[39mcolumns\u001b[39m\u001b[39m\"\u001b[39m: columns}, dtype\u001b[39m=\u001b[39mdtype, copy\u001b[39m=\u001b[39mcopy\n\u001b[0;32m    705\u001b[0m     )\n\u001b[0;32m    707\u001b[0m \u001b[39melif\u001b[39;00m \u001b[39misinstance\u001b[39m(data, \u001b[39mdict\u001b[39m):\n\u001b[0;32m    708\u001b[0m     \u001b[39m# GH#38939 de facto copy defaults to False only in non-dict cases\u001b[39;00m\n\u001b[1;32m--> 709\u001b[0m     mgr \u001b[39m=\u001b[39m dict_to_mgr(data, index, columns, dtype\u001b[39m=\u001b[39;49mdtype, copy\u001b[39m=\u001b[39;49mcopy, typ\u001b[39m=\u001b[39;49mmanager)\n\u001b[0;32m    710\u001b[0m \u001b[39melif\u001b[39;00m \u001b[39misinstance\u001b[39m(data, ma\u001b[39m.\u001b[39mMaskedArray):\n\u001b[0;32m    711\u001b[0m     \u001b[39mfrom\u001b[39;00m \u001b[39mnumpy\u001b[39;00m\u001b[39m.\u001b[39;00m\u001b[39mma\u001b[39;00m \u001b[39mimport\u001b[39;00m mrecords\n",
      "File \u001b[1;32mc:\\Users\\patty\\anaconda3\\envs\\eds217_2023\\lib\\site-packages\\pandas\\core\\internals\\construction.py:481\u001b[0m, in \u001b[0;36mdict_to_mgr\u001b[1;34m(data, index, columns, dtype, typ, copy)\u001b[0m\n\u001b[0;32m    477\u001b[0m     \u001b[39melse\u001b[39;00m:\n\u001b[0;32m    478\u001b[0m         \u001b[39m# dtype check to exclude e.g. range objects, scalars\u001b[39;00m\n\u001b[0;32m    479\u001b[0m         arrays \u001b[39m=\u001b[39m [x\u001b[39m.\u001b[39mcopy() \u001b[39mif\u001b[39;00m \u001b[39mhasattr\u001b[39m(x, \u001b[39m\"\u001b[39m\u001b[39mdtype\u001b[39m\u001b[39m\"\u001b[39m) \u001b[39melse\u001b[39;00m x \u001b[39mfor\u001b[39;00m x \u001b[39min\u001b[39;00m arrays]\n\u001b[1;32m--> 481\u001b[0m \u001b[39mreturn\u001b[39;00m arrays_to_mgr(arrays, columns, index, dtype\u001b[39m=\u001b[39;49mdtype, typ\u001b[39m=\u001b[39;49mtyp, consolidate\u001b[39m=\u001b[39;49mcopy)\n",
      "File \u001b[1;32mc:\\Users\\patty\\anaconda3\\envs\\eds217_2023\\lib\\site-packages\\pandas\\core\\internals\\construction.py:115\u001b[0m, in \u001b[0;36marrays_to_mgr\u001b[1;34m(arrays, columns, index, dtype, verify_integrity, typ, consolidate)\u001b[0m\n\u001b[0;32m    112\u001b[0m \u001b[39mif\u001b[39;00m verify_integrity:\n\u001b[0;32m    113\u001b[0m     \u001b[39m# figure out the index, if necessary\u001b[39;00m\n\u001b[0;32m    114\u001b[0m     \u001b[39mif\u001b[39;00m index \u001b[39mis\u001b[39;00m \u001b[39mNone\u001b[39;00m:\n\u001b[1;32m--> 115\u001b[0m         index \u001b[39m=\u001b[39m _extract_index(arrays)\n\u001b[0;32m    116\u001b[0m     \u001b[39melse\u001b[39;00m:\n\u001b[0;32m    117\u001b[0m         index \u001b[39m=\u001b[39m ensure_index(index)\n",
      "File \u001b[1;32mc:\\Users\\patty\\anaconda3\\envs\\eds217_2023\\lib\\site-packages\\pandas\\core\\internals\\construction.py:645\u001b[0m, in \u001b[0;36m_extract_index\u001b[1;34m(data)\u001b[0m\n\u001b[0;32m    642\u001b[0m         \u001b[39mraise\u001b[39;00m \u001b[39mValueError\u001b[39;00m(\u001b[39m\"\u001b[39m\u001b[39mPer-column arrays must each be 1-dimensional\u001b[39m\u001b[39m\"\u001b[39m)\n\u001b[0;32m    644\u001b[0m \u001b[39mif\u001b[39;00m \u001b[39mnot\u001b[39;00m indexes \u001b[39mand\u001b[39;00m \u001b[39mnot\u001b[39;00m raw_lengths:\n\u001b[1;32m--> 645\u001b[0m     \u001b[39mraise\u001b[39;00m \u001b[39mValueError\u001b[39;00m(\u001b[39m\"\u001b[39m\u001b[39mIf using all scalar values, you must pass an index\u001b[39m\u001b[39m\"\u001b[39m)\n\u001b[0;32m    647\u001b[0m \u001b[39mif\u001b[39;00m have_series:\n\u001b[0;32m    648\u001b[0m     index \u001b[39m=\u001b[39m union_indexes(indexes)\n",
      "\u001b[1;31mValueError\u001b[0m: If using all scalar values, you must pass an index"
     ]
    }
   ],
   "source": [
    "mountain_df = pd.DataFrame(tallest_mountain)\n",
    "\n",
    "#mountain_df = tallest_mountain.transpose()\n",
    "#mountain_df = pd.DataFrame(list(tallest_mountain.items()), columns=['Mountain', 'Height (m)'])\n",
    "print(mountain_df)"
   ]
  },
  {
   "cell_type": "markdown",
   "metadata": {},
   "source": [
    "## Explore your dataframe using the following functions:\n",
    "\n",
    "- `df.describe()`\n",
    "- `df.plot()`\n",
    "- `df.hist()`"
   ]
  },
  {
   "cell_type": "code",
   "execution_count": 45,
   "metadata": {},
   "outputs": [
    {
     "data": {
      "text/plain": [
       "<Axes: xlabel='Mountain', ylabel='Height (m)'>"
      ]
     },
     "execution_count": 45,
     "metadata": {},
     "output_type": "execute_result"
    },
    {
     "data": {
      "image/png": "[encoded data removed]",
      "text/plain": [
       "<Figure size 640x480 with 1 Axes>"
      ]
     },
     "metadata": {},
     "output_type": "display_data"
    }
   ],
   "source": [
    "mountain_df.plot(x = 'Mountain', y = 'Height (m)', kind = 'scatter')"
   ]
  },
  {
   "cell_type": "code",
   "execution_count": null,
   "metadata": {},
   "outputs": [],
   "source": []
  }
 ],
 "metadata": {
  "kernelspec": {
   "display_name": "Python 3",
   "language": "python",
   "name": "python3"
  },
  "language_info": {
   "codemirror_mode": {
    "name": "ipython",
    "version": 3
   },
   "file_extension": ".py",
   "mimetype": "text/x-python",
   "name": "python",
   "nbconvert_exporter": "python",
   "pygments_lexer": "ipython3",
   "version": "3.10.12"
  }
 },
 "nbformat": 4,
 "nbformat_minor": 4
}
